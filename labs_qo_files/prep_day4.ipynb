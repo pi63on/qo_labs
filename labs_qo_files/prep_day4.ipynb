{
 "cells": [
  {
   "cell_type": "code",
   "execution_count": 9,
   "metadata": {},
   "outputs": [],
   "source": [
    "import numpy as np\n",
    "import scipy.constants as scc"
   ]
  },
  {
   "cell_type": "code",
   "execution_count": 10,
   "metadata": {},
   "outputs": [],
   "source": [
    "length = 25e-3\n",
    "delta_thickness = .44e-3\n",
    "angle = 1\n",
    "n_810 = 1.511\n",
    "n_630 = 1.515"
   ]
  },
  {
   "cell_type": "code",
   "execution_count": 11,
   "metadata": {},
   "outputs": [],
   "source": [
    "# opath = lambda dist, wavel : 2*(dist*np.tan(np.deg2rad(1)))*wavel"
   ]
  },
  {
   "cell_type": "code",
   "execution_count": 12,
   "metadata": {},
   "outputs": [],
   "source": [
    "def opath(dist_moved, wavel):\n",
    "    # dist_moved *= 1e-3\n",
    "    if wavel == 810 or 1:\n",
    "        n = 1.522\n",
    "    elif wavel == 630 or 2:\n",
    "        n = 1.515\n",
    "    diff = 2*(dist_moved*np.tan(np.deg2rad(1)))*n\n",
    "    print(diff*1e3, 'optical path diff in mm')\n",
    "    return diff"
   ]
  },
  {
   "cell_type": "code",
   "execution_count": 13,
   "metadata": {},
   "outputs": [
    {
     "name": "stdout",
     "output_type": "stream",
     "text": [
      "0.002656660882074717 optical path diff in mm\n"
     ]
    },
    {
     "data": {
      "text/plain": [
       "2.656660882074717e-06"
      ]
     },
     "execution_count": 13,
     "metadata": {},
     "output_type": "execute_result"
    }
   ],
   "source": [
    "opath(50e-6, 1)"
   ]
  },
  {
   "cell_type": "code",
   "execution_count": 14,
   "metadata": {},
   "outputs": [
    {
     "name": "stdout",
     "output_type": "stream",
     "text": [
      "0.017839076356638374 0.017978716876064112\n"
     ]
    }
   ],
   "source": [
    "conversion_factor_810 = 2*np.tan(np.deg2rad(1))*0.511\n",
    "conversion_factor_630 = 2*np.tan(np.deg2rad(1))*0.515\n",
    "print(conversion_factor_810, conversion_factor_630)"
   ]
  },
  {
   "cell_type": "code",
   "execution_count": 15,
   "metadata": {},
   "outputs": [
    {
     "name": "stdout",
     "output_type": "stream",
     "text": [
      "2.2702969139390962e-05\n",
      "1.7520716421057497e-05\n"
     ]
    }
   ],
   "source": [
    "#question4\n",
    "#how much shift for halfwavel change\n",
    "print(810e-9/(2*conversion_factor_810))\n",
    "print(630e-9/(2*conversion_factor_630))"
   ]
  }
 ],
 "metadata": {
  "kernelspec": {
   "display_name": "sose24",
   "language": "python",
   "name": "python3"
  },
  "language_info": {
   "codemirror_mode": {
    "name": "ipython",
    "version": 3
   },
   "file_extension": ".py",
   "mimetype": "text/x-python",
   "name": "python",
   "nbconvert_exporter": "python",
   "pygments_lexer": "ipython3",
   "version": "3.11.4"
  }
 },
 "nbformat": 4,
 "nbformat_minor": 2
}
