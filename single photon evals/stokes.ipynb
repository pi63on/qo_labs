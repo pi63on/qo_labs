{
 "cells": [
  {
   "cell_type": "code",
   "execution_count": 273,
   "metadata": {},
   "outputs": [],
   "source": [
    "import numpy as np\n",
    "import matplotlib.pyplot as plt\n",
    "import pandas as pd"
   ]
  },
  {
   "cell_type": "code",
   "execution_count": 274,
   "metadata": {},
   "outputs": [],
   "source": [
    "data = pd.read_csv('../singlephotoncsv/stokes.csv')\n",
    "data['uncertainties'] = np.sqrt(data['coincidences with pol'])"
   ]
  },
  {
   "cell_type": "code",
   "execution_count": 275,
   "metadata": {},
   "outputs": [
    {
     "data": {
      "text/html": [
       "<div>\n",
       "<style scoped>\n",
       "    .dataframe tbody tr th:only-of-type {\n",
       "        vertical-align: middle;\n",
       "    }\n",
       "\n",
       "    .dataframe tbody tr th {\n",
       "        vertical-align: top;\n",
       "    }\n",
       "\n",
       "    .dataframe thead th {\n",
       "        text-align: right;\n",
       "    }\n",
       "</style>\n",
       "<table border=\"1\" class=\"dataframe\">\n",
       "  <thead>\n",
       "    <tr style=\"text-align: right;\">\n",
       "      <th></th>\n",
       "      <th>coincidences with pol</th>\n",
       "      <th>coincidences wt pol</th>\n",
       "      <th>uncertainties</th>\n",
       "    </tr>\n",
       "  </thead>\n",
       "  <tbody>\n",
       "    <tr>\n",
       "      <th>0</th>\n",
       "      <td>800</td>\n",
       "      <td>990</td>\n",
       "      <td>28.284271</td>\n",
       "    </tr>\n",
       "    <tr>\n",
       "      <th>1</th>\n",
       "      <td>76</td>\n",
       "      <td>2300</td>\n",
       "      <td>8.717798</td>\n",
       "    </tr>\n",
       "    <tr>\n",
       "      <th>2</th>\n",
       "      <td>414</td>\n",
       "      <td>1500</td>\n",
       "      <td>20.346990</td>\n",
       "    </tr>\n",
       "    <tr>\n",
       "      <th>3</th>\n",
       "      <td>570</td>\n",
       "      <td>1620</td>\n",
       "      <td>23.874673</td>\n",
       "    </tr>\n",
       "    <tr>\n",
       "      <th>4</th>\n",
       "      <td>505</td>\n",
       "      <td>1704</td>\n",
       "      <td>22.472205</td>\n",
       "    </tr>\n",
       "    <tr>\n",
       "      <th>5</th>\n",
       "      <td>590</td>\n",
       "      <td>1854</td>\n",
       "      <td>24.289916</td>\n",
       "    </tr>\n",
       "    <tr>\n",
       "      <th>6</th>\n",
       "      <td>58</td>\n",
       "      <td>970</td>\n",
       "      <td>7.615773</td>\n",
       "    </tr>\n",
       "    <tr>\n",
       "      <th>7</th>\n",
       "      <td>1660</td>\n",
       "      <td>2479</td>\n",
       "      <td>40.743098</td>\n",
       "    </tr>\n",
       "    <tr>\n",
       "      <th>8</th>\n",
       "      <td>700</td>\n",
       "      <td>1511</td>\n",
       "      <td>26.457513</td>\n",
       "    </tr>\n",
       "    <tr>\n",
       "      <th>9</th>\n",
       "      <td>790</td>\n",
       "      <td>1718</td>\n",
       "      <td>28.106939</td>\n",
       "    </tr>\n",
       "    <tr>\n",
       "      <th>10</th>\n",
       "      <td>855</td>\n",
       "      <td>1766</td>\n",
       "      <td>29.240383</td>\n",
       "    </tr>\n",
       "    <tr>\n",
       "      <th>11</th>\n",
       "      <td>762</td>\n",
       "      <td>1795</td>\n",
       "      <td>27.604347</td>\n",
       "    </tr>\n",
       "    <tr>\n",
       "      <th>12</th>\n",
       "      <td>374</td>\n",
       "      <td>1012</td>\n",
       "      <td>19.339080</td>\n",
       "    </tr>\n",
       "    <tr>\n",
       "      <th>13</th>\n",
       "      <td>1022</td>\n",
       "      <td>2488</td>\n",
       "      <td>31.968735</td>\n",
       "    </tr>\n",
       "    <tr>\n",
       "      <th>14</th>\n",
       "      <td>1116</td>\n",
       "      <td>1513</td>\n",
       "      <td>33.406586</td>\n",
       "    </tr>\n",
       "    <tr>\n",
       "      <th>15</th>\n",
       "      <td>170</td>\n",
       "      <td>1653</td>\n",
       "      <td>13.038405</td>\n",
       "    </tr>\n",
       "    <tr>\n",
       "      <th>16</th>\n",
       "      <td>977</td>\n",
       "      <td>1736</td>\n",
       "      <td>31.256999</td>\n",
       "    </tr>\n",
       "    <tr>\n",
       "      <th>17</th>\n",
       "      <td>442</td>\n",
       "      <td>1771</td>\n",
       "      <td>21.023796</td>\n",
       "    </tr>\n",
       "    <tr>\n",
       "      <th>18</th>\n",
       "      <td>455</td>\n",
       "      <td>1016</td>\n",
       "      <td>21.330729</td>\n",
       "    </tr>\n",
       "    <tr>\n",
       "      <th>19</th>\n",
       "      <td>888</td>\n",
       "      <td>2415</td>\n",
       "      <td>29.799329</td>\n",
       "    </tr>\n",
       "    <tr>\n",
       "      <th>20</th>\n",
       "      <td>130</td>\n",
       "      <td>1513</td>\n",
       "      <td>11.401754</td>\n",
       "    </tr>\n",
       "    <tr>\n",
       "      <th>21</th>\n",
       "      <td>1218</td>\n",
       "      <td>1714</td>\n",
       "      <td>34.899857</td>\n",
       "    </tr>\n",
       "    <tr>\n",
       "      <th>22</th>\n",
       "      <td>470</td>\n",
       "      <td>1738</td>\n",
       "      <td>21.679483</td>\n",
       "    </tr>\n",
       "    <tr>\n",
       "      <th>23</th>\n",
       "      <td>950</td>\n",
       "      <td>1818</td>\n",
       "      <td>30.822070</td>\n",
       "    </tr>\n",
       "  </tbody>\n",
       "</table>\n",
       "</div>"
      ],
      "text/plain": [
       "    coincidences with pol  coincidences wt pol  uncertainties\n",
       "0                     800                  990      28.284271\n",
       "1                      76                 2300       8.717798\n",
       "2                     414                 1500      20.346990\n",
       "3                     570                 1620      23.874673\n",
       "4                     505                 1704      22.472205\n",
       "5                     590                 1854      24.289916\n",
       "6                      58                  970       7.615773\n",
       "7                    1660                 2479      40.743098\n",
       "8                     700                 1511      26.457513\n",
       "9                     790                 1718      28.106939\n",
       "10                    855                 1766      29.240383\n",
       "11                    762                 1795      27.604347\n",
       "12                    374                 1012      19.339080\n",
       "13                   1022                 2488      31.968735\n",
       "14                   1116                 1513      33.406586\n",
       "15                    170                 1653      13.038405\n",
       "16                    977                 1736      31.256999\n",
       "17                    442                 1771      21.023796\n",
       "18                    455                 1016      21.330729\n",
       "19                    888                 2415      29.799329\n",
       "20                    130                 1513      11.401754\n",
       "21                   1218                 1714      34.899857\n",
       "22                    470                 1738      21.679483\n",
       "23                    950                 1818      30.822070"
      ]
     },
     "execution_count": 275,
     "metadata": {},
     "output_type": "execute_result"
    }
   ],
   "source": [
    "data"
   ]
  },
  {
   "cell_type": "code",
   "execution_count": 276,
   "metadata": {},
   "outputs": [],
   "source": [
    "stokes = np.zeros((4,8))\n",
    "for i in range(4):\n",
    "    for j in range(3):\n",
    "        n = i*6 + j*2\n",
    "        a = data['coincidences with pol'][n]\n",
    "        da = data['uncertainties'][n]\n",
    "        b = data['coincidences with pol'][n+1]\n",
    "        db = data['uncertainties'][n+1]\n",
    "\n",
    "        s = (a-b)/(a+b)\n",
    "        # unc = 2 * (b ** 2 * da ** 2 + a ** 2 * db ** 2) ** (1 / 2) / (a + b) ** 2 #quad\n",
    "        unc = abs(2 * b / (a + b) ** 2) * da + abs(-(2 * a / (a + b) ** 2)) * db #abs\n",
    "        unc= np.sqrt(unc)\n",
    "        stokes[i, j*2] = s\n",
    "        stokes[i, j*2 + 1] = unc\n",
    "    stokes[i, 6] = np.sqrt(np.sum(np.square(stokes[i, :3])))\n",
    "    a = stokes[i, 0]\n",
    "    da = stokes[i,1]\n",
    "    b = stokes[i,2]\n",
    "    db = stokes[i,3]\n",
    "    c = stokes[i,4]\n",
    "    dc = stokes[i,5]\n",
    "    # stokes[i, 7] = (a ** 2 * da ** 2 + b ** 2 * db ** 2 + c ** 2 * dc ** 2) ** (1 / 2) * (a ** 2 + b ** 2 + c ** 2) ** (-1 / 2)\n",
    "    stokes[i, 7] = abs((a ** 2 + b ** 2 + c ** 2) ** (-1 / 2) * a) * da + abs((a ** 2 + b ** 2 + c ** 2) ** (-1 / 2) * b) * db + abs((a ** 2 + b ** 2 + c ** 2) ** (-1 / 2) * c) * dc\n",
    "        "
   ]
  },
  {
   "cell_type": "code",
   "execution_count": 277,
   "metadata": {},
   "outputs": [
    {
     "data": {
      "text/plain": [
       "array([[ 0.82648402,  0.15420547, -0.15853659,  0.21064746, -0.07762557,\n",
       "         0.20634019,  0.85556356,  0.20927208],\n",
       "       [-0.93247963,  0.10083561, -0.06040268,  0.19118988,  0.05751391,\n",
       "         0.18733993,  0.9398588 ,  0.12427891],\n",
       "       [-0.46418338,  0.18042718,  0.73561431,  0.15641261,  0.37702607,\n",
       "         0.18472807,  0.88834036,  0.2831773 ],\n",
       "       [-0.32241251,  0.18983803, -0.80712166,  0.14240355, -0.33802817,\n",
       "         0.18653833,  0.88962558,  0.25649794]])"
      ]
     },
     "execution_count": 277,
     "metadata": {},
     "output_type": "execute_result"
    }
   ],
   "source": [
    "stokes"
   ]
  },
  {
   "cell_type": "code",
   "execution_count": 278,
   "metadata": {},
   "outputs": [],
   "source": [
    "stokes = pd.DataFrame(stokes)\n",
    "stokes = stokes.rename(columns={0:'S1', 2:'S2', 4:'S3', 6:'V'})\n",
    "stokes = stokes.rename(columns={1:'S1 unc', 3:'S2 unc', 5:'S3 unc', 7:'V unc'})\n",
    "stokes = stokes.rename({0:'H',1:'V',2:'D',3:'A'})\n",
    "stokes.to_csv('../singlephotoncsv/stokes_res.csv')\n",
    "stokes.to_clipboard()"
   ]
  },
  {
   "cell_type": "code",
   "execution_count": 279,
   "metadata": {},
   "outputs": [],
   "source": [
    "# no pol. in \n",
    "ints = [997,\n",
    "2420.5,\n",
    "1509.25,\n",
    "1676.25,\n",
    "1736,\n",
    "1809.5]\n",
    "\n",
    "ints = np.array(ints)\n",
    "uncs = np.sqrt(ints)"
   ]
  },
  {
   "cell_type": "code",
   "execution_count": 280,
   "metadata": {},
   "outputs": [],
   "source": [
    "stokes = np.zeros((3,2))"
   ]
  },
  {
   "cell_type": "code",
   "execution_count": 281,
   "metadata": {},
   "outputs": [],
   "source": [
    "for i in range(3):\n",
    "    a = ints[i*2]\n",
    "    b = ints[i*2 + 1]\n",
    "    da = uncs[i*2]\n",
    "    db  = uncs[i*2 + 1]\n",
    "    s = (a-b)/(a+b)\n",
    "    # su = abs(2 * b / (a + b) ** 2) * da + abs(-(2 * a / (a + b) ** 2)) * db\n",
    "    su = 2 * (b ** 2 * da ** 2 + a ** 2 * db ** 2) ** (1 / 2) / (a + b) ** 2 #quad\n",
    "    stokes[i][0] = s\n",
    "    stokes[i][1] = su\n",
    "v = np.sqrt(np.sum(np.square(stokes[:][0])))\n",
    "a = stokes[0][0]\n",
    "b = stokes[1][0]\n",
    "c = stokes[2][0]\n",
    "da = stokes[0][1]\n",
    "db = stokes[1][1]\n",
    "dc = stokes[2][1]\n",
    "# unv = abs((a ** 2 + b ** 2 + c ** 2) ** (-1 / 2) * a) * da + abs((a ** 2 + b ** 2 + c ** 2) ** (-1 / 2) * b) * db + abs((a ** 2 + b ** 2 + c ** 2) ** (-1 / 2) * c) * dc\n",
    "unv = (a ** 2 * da ** 2 + b ** 2 * db ** 2 + c ** 2 * dc ** 2) ** (1 / 2) * (a ** 2 + b ** 2 + c ** 2) ** (-1 / 2)"
   ]
  },
  {
   "cell_type": "code",
   "execution_count": 282,
   "metadata": {},
   "outputs": [
    {
     "name": "stdout",
     "output_type": "stream",
     "text": [
      "0.41682275774768146\n",
      "0.015590027871911175\n"
     ]
    }
   ],
   "source": [
    "print(v)\n",
    "print(unv)"
   ]
  },
  {
   "cell_type": "code",
   "execution_count": 283,
   "metadata": {},
   "outputs": [
    {
     "data": {
      "text/plain": [
       "array([[-0.41653255,  0.01555132],\n",
       "       [-0.05242505,  0.01769349],\n",
       "       [-0.0207305 ,  0.01679067]])"
      ]
     },
     "execution_count": 283,
     "metadata": {},
     "output_type": "execute_result"
    }
   ],
   "source": [
    "stokes"
   ]
  },
  {
   "cell_type": "code",
   "execution_count": null,
   "metadata": {},
   "outputs": [],
   "source": []
  }
 ],
 "metadata": {
  "kernelspec": {
   "display_name": "uni",
   "language": "python",
   "name": "python3"
  },
  "language_info": {
   "codemirror_mode": {
    "name": "ipython",
    "version": 3
   },
   "file_extension": ".py",
   "mimetype": "text/x-python",
   "name": "python",
   "nbconvert_exporter": "python",
   "pygments_lexer": "ipython3",
   "version": "3.11.4"
  }
 },
 "nbformat": 4,
 "nbformat_minor": 2
}
