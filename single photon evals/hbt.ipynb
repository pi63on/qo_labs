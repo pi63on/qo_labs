{
 "cells": [
  {
   "cell_type": "code",
   "execution_count": 210,
   "metadata": {},
   "outputs": [],
   "source": [
    "import numpy as np\n"
   ]
  },
  {
   "cell_type": "code",
   "execution_count": 211,
   "metadata": {},
   "outputs": [],
   "source": [
    "avg_herald = np.array([1.47E+06,\t3.07E+05\t,3.48E+05\t,2.59E+03,\t2.78E+03,0,\t2.40E+00])\n",
    "std_herald = np.array([1541\t,4341\t,5828,\t37\t,60,0,\t1])\n",
    "\n",
    "avg_noherald = np.array([20521\t,311.481e3,\t351.235e3\t,53\t,21\t,331,0])\n",
    "std_noherald = np.array([ 196\t,773,\t855,\t10,\t4,\t31,0 ])"
   ]
  },
  {
   "cell_type": "code",
   "execution_count": 212,
   "metadata": {},
   "outputs": [],
   "source": [
    "dt = 40e-9\n",
    "T = 10"
   ]
  },
  {
   "cell_type": "code",
   "execution_count": 213,
   "metadata": {},
   "outputs": [],
   "source": [
    "s = avg_noherald[:3].flatten()\n",
    "c = avg_noherald[3:].flatten()\n",
    "su = std_noherald[:3].flatten()\n",
    "cu = std_noherald[3:].flatten()"
   ]
  },
  {
   "cell_type": "code",
   "execution_count": 214,
   "metadata": {},
   "outputs": [
    {
     "data": {
      "text/plain": [
       "4376.1211614"
      ]
     },
     "execution_count": 214,
     "metadata": {},
     "output_type": "execute_result"
    }
   ],
   "source": [
    "(311.481 *\t351.235 *40e-3)"
   ]
  },
  {
   "cell_type": "markdown",
   "metadata": {},
   "source": [
    "### order \n",
    "\n",
    "- singles : s0, s1, s2\n",
    "- concs : c01 ,c02 ,c12, c012"
   ]
  },
  {
   "cell_type": "code",
   "execution_count": 215,
   "metadata": {},
   "outputs": [
    {
     "name": "stdout",
     "output_type": "stream",
     "text": [
      "1.0085034601558949\n"
     ]
    }
   ],
   "source": [
    "g2_herald = (s[0]* c[3])/(c[1]*c[0])\n",
    "\n",
    "g2_noherald  = c[2]*T /   (311.481 *\t351.235 *30e-3)\n",
    "print(g2_noherald)"
   ]
  },
  {
   "cell_type": "code",
   "execution_count": 216,
   "metadata": {},
   "outputs": [],
   "source": [
    "g2Herald_unc  = (c[3] ** 2 * (1 / c[1] / c[0]) ** 2 * su[0] ** 2 + s[0] ** 2 * (1 / c[1] / c[0]) ** 2 * cu[3] ** 2 + s[0] ** 2 * c[3] ** 2 * (-(1 / c[1] ** 2 / c[0])) ** 2 * cu[1] ** 2 + s[0] ** 2 * c[3] ** 2 * (-(1 / c[0] ** 2 / c[1])) ** 2 * cu[0] ** 2) ** (1 / 2)\n",
    "g2NoHerald_unc = ((1 / s[2] / s[1]) ** 2 * cu[2] ** 2 + c[2] ** 2 * (-(1 / s[1] ** 2 / s[2])) ** 2 * su[1] ** 2 + c[2] ** 2 * (-(1 / s[2] ** 2 / s[1])) ** 2 * su[2] ** 2) ** (1 / 2) *(T/dt)"
   ]
  },
  {
   "cell_type": "code",
   "execution_count": 217,
   "metadata": {},
   "outputs": [
    {
     "name": "stdout",
     "output_type": "stream",
     "text": [
      "heralded\n",
      "1.0085034601558949\n",
      "0.07088777047844555\n"
     ]
    }
   ],
   "source": [
    "print('heralded')\n",
    "print(g2_noherald)\n",
    "print(g2NoHerald_unc)"
   ]
  },
  {
   "cell_type": "code",
   "execution_count": 220,
   "metadata": {},
   "outputs": [
    {
     "name": "stdout",
     "output_type": "stream",
     "text": [
      "Nacc 4376.1211614 15.212580339384587\n"
     ]
    }
   ],
   "source": [
    "nacc = (311.481 *\t351.235 *40e-3)\n",
    "nacc_u = (s[2] ** 2 * su[1] ** 2 + s[1] ** 2 * su[2] ** 2) ** (1 / 2) *dt\n",
    "print('Nacc', nacc ,nacc_u)"
   ]
  },
  {
   "cell_type": "code",
   "execution_count": null,
   "metadata": {},
   "outputs": [],
   "source": []
  }
 ],
 "metadata": {
  "kernelspec": {
   "display_name": "uni",
   "language": "python",
   "name": "python3"
  },
  "language_info": {
   "codemirror_mode": {
    "name": "ipython",
    "version": 3
   },
   "file_extension": ".py",
   "mimetype": "text/x-python",
   "name": "python",
   "nbconvert_exporter": "python",
   "pygments_lexer": "ipython3",
   "version": "3.11.4"
  }
 },
 "nbformat": 4,
 "nbformat_minor": 2
}
